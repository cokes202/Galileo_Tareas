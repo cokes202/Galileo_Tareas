{
 "cells": [
  {
   "cell_type": "code",
   "execution_count": 6,
   "metadata": {},
   "outputs": [],
   "source": [
    "import numpy as np"
   ]
  },
  {
   "cell_type": "markdown",
   "metadata": {},
   "source": [
    "Diferencias entre np.matrix y np.ndarray\n",
    "•\tJupyter notebook con makdwon\n",
    "•\tComentarios o conclusiones\n",
    "•\tCodigo de python ejemplificando\n",
    "\n",
    "### numpy.matrix \n",
    "Devuelve una matriz de un objeto similar a una matriz o de una cadena de datos. Una matriz es una matriz 2-D especializada que conserva su naturaleza 2-D a través de las operaciones. Tiene ciertos operadores especiales, como * (multiplicación de matrices) y ** (potencia de matriz).\n",
    "data : array_like or string\n",
    "If data is a string, it is interpreted as a matrix with commas or spaces separating columns, and semicolons separating rows.\n",
    "dtype : data-type\n",
    "Data-type of the output matrix.\n",
    "\n",
    "##### Conclusión:\n",
    "Este operador hace que la matriz creada mantenga dicho formato y forma bajo las operaciones que se le apliquen.\n",
    "\n",
    "##### Ejemplo:"
   ]
  },
  {
   "cell_type": "code",
   "execution_count": 9,
   "metadata": {},
   "outputs": [
    {
     "name": "stdout",
     "output_type": "stream",
     "text": [
      "[[1 2]\n",
      " [3 4]]\n"
     ]
    }
   ],
   "source": [
    "a = np.matrix('1 2; 3 4')\n",
    "print (a)"
   ]
  },
  {
   "cell_type": "markdown",
   "metadata": {},
   "source": [
    "### numpy.ndarray \n",
    "Un objeto de matriz representa una matriz homogénea y multidimensional de elementos de tamaño fijo. Un objeto de tipo de datos asociado describe el formato de cada elemento de la matriz. \n",
    "Las matrices se deben construir utilizando matrices, ceros o vacíos. \n",
    "\n",
    "Forma: tupla de enteros\n",
    "dtype: tipo de datos, opcional\n",
    "Cualquier objeto que pueda ser interpretado como un tipo de datos numpy.\n",
    "\n",
    "##### Conclusión:\n",
    "Esto es un arreglo de número en forma de matriz, el cual se puede manipular o modificar. \n",
    "\n",
    "##### Ejemplo:"
   ]
  },
  {
   "cell_type": "code",
   "execution_count": 11,
   "metadata": {},
   "outputs": [
    {
     "data": {
      "text/plain": [
       "array([[8.93527744e-312, 3.95252517e-323],\n",
       "       [9.88131292e-324, 1.97626258e-323]])"
      ]
     },
     "execution_count": 11,
     "metadata": {},
     "output_type": "execute_result"
    }
   ],
   "source": [
    "np.ndarray(shape=(2,2), dtype=float, order='F')"
   ]
  },
  {
   "cell_type": "code",
   "execution_count": 15,
   "metadata": {},
   "outputs": [
    {
     "data": {
      "text/plain": [
       "array([2, 3])"
      ]
     },
     "execution_count": 15,
     "metadata": {},
     "output_type": "execute_result"
    }
   ],
   "source": [
    "np.ndarray((2,), buffer=np.array([1,2,3]),offset=np.int_().itemsize,dtype=int) "
   ]
  }
 ],
 "metadata": {
  "kernelspec": {
   "display_name": "Python 3",
   "language": "python",
   "name": "python3"
  },
  "language_info": {
   "codemirror_mode": {
    "name": "ipython",
    "version": 3
   },
   "file_extension": ".py",
   "mimetype": "text/x-python",
   "name": "python",
   "nbconvert_exporter": "python",
   "pygments_lexer": "ipython3",
   "version": "3.7.1"
  }
 },
 "nbformat": 4,
 "nbformat_minor": 2
}
